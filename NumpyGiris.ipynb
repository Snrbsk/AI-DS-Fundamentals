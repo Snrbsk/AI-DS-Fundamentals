{
 "cells": [
  {
   "cell_type": "code",
   "execution_count": 3,
   "id": "205fdf0d",
   "metadata": {},
   "outputs": [],
   "source": [
    "import numpy as np"
   ]
  },
  {
   "cell_type": "code",
   "execution_count": 4,
   "id": "a5b97938",
   "metadata": {},
   "outputs": [
    {
     "data": {
      "text/plain": [
       "array([10, 20, 30])"
      ]
     },
     "execution_count": 4,
     "metadata": {},
     "output_type": "execute_result"
    }
   ],
   "source": [
    "myList = [10,20,30]\n",
    "np.array(myList)"
   ]
  },
  {
   "cell_type": "code",
   "execution_count": 5,
   "id": "16eab7b5",
   "metadata": {},
   "outputs": [
    {
     "data": {
      "text/plain": [
       "array([[1, 2, 3],\n",
       "       [4, 5, 6],\n",
       "       [7, 8, 9]])"
      ]
     },
     "execution_count": 5,
     "metadata": {},
     "output_type": "execute_result"
    }
   ],
   "source": [
    "matrixList =[[1,2,3],[4,5,6],[7,8,9]]\n",
    "np.array(matrixList)"
   ]
  },
  {
   "cell_type": "code",
   "execution_count": 37,
   "id": "37ca43a2",
   "metadata": {},
   "outputs": [
    {
     "name": "stdout",
     "output_type": "stream",
     "text": [
      "[0 1 2 3 4 5 6 7 8 9]\n"
     ]
    }
   ],
   "source": [
    "npArange = np.arange(0,10)\n",
    "print(npArange)"
   ]
  },
  {
   "cell_type": "code",
   "execution_count": 10,
   "id": "a6e9e54b",
   "metadata": {},
   "outputs": [
    {
     "data": {
      "text/plain": [
       "array([ 0.,  2.,  4.,  6.,  8., 10., 12., 14., 16., 18., 20.])"
      ]
     },
     "execution_count": 10,
     "metadata": {},
     "output_type": "execute_result"
    }
   ],
   "source": [
    "np.linspace(0,20,11)"
   ]
  },
  {
   "cell_type": "code",
   "execution_count": 11,
   "id": "3bc1d9db",
   "metadata": {},
   "outputs": [
    {
     "data": {
      "text/plain": [
       "array([[1., 0., 0., 0.],\n",
       "       [0., 1., 0., 0.],\n",
       "       [0., 0., 1., 0.],\n",
       "       [0., 0., 0., 1.]])"
      ]
     },
     "execution_count": 11,
     "metadata": {},
     "output_type": "execute_result"
    }
   ],
   "source": [
    "np.eye(4)"
   ]
  },
  {
   "cell_type": "code",
   "execution_count": 43,
   "id": "7bfcb34f",
   "metadata": {},
   "outputs": [
    {
     "name": "stdout",
     "output_type": "stream",
     "text": [
      "[[-0.48921338  0.82858421  0.11169628  0.34145909]\n",
      " [ 0.69337448 -0.46267975  0.25620407 -1.35964466]\n",
      " [ 0.0722197  -1.06279242 -0.61454578 -0.83959271]\n",
      " [ 0.60721173 -0.64867708 -1.40724662 -1.26626035]]\n"
     ]
    }
   ],
   "source": [
    "myRand = np.random.randn(4,4)\n",
    "print(myRand)"
   ]
  },
  {
   "cell_type": "code",
   "execution_count": 15,
   "id": "51f0aea5",
   "metadata": {},
   "outputs": [
    {
     "name": "stdout",
     "output_type": "stream",
     "text": [
      "[50 14 35 46 15 14 22 43 28 39 32 48 11 18 35 15 31 26 42  5 44 45 42 37\n",
      " 16 17 18 16 30 42 38  1 43  3  8 15 45  5 24 27 33 24 31  7 25 23 12 25\n",
      " 47 46 39 17 17 32 50 31 37 38 29 42]\n"
     ]
    }
   ],
   "source": [
    "myRandom = np.random.randint(0,51,60)\n",
    "print(myRandom)"
   ]
  },
  {
   "cell_type": "code",
   "execution_count": 17,
   "id": "a0010466",
   "metadata": {
    "scrolled": true
   },
   "outputs": [
    {
     "data": {
      "text/plain": [
       "array([[50, 14, 35, 46, 15, 14, 22, 43, 28, 39],\n",
       "       [32, 48, 11, 18, 35, 15, 31, 26, 42,  5],\n",
       "       [44, 45, 42, 37, 16, 17, 18, 16, 30, 42],\n",
       "       [38,  1, 43,  3,  8, 15, 45,  5, 24, 27],\n",
       "       [33, 24, 31,  7, 25, 23, 12, 25, 47, 46],\n",
       "       [39, 17, 17, 32, 50, 31, 37, 38, 29, 42]])"
      ]
     },
     "execution_count": 17,
     "metadata": {},
     "output_type": "execute_result"
    }
   ],
   "source": [
    "myRandom.reshape(6,10)"
   ]
  },
  {
   "cell_type": "code",
   "execution_count": 38,
   "id": "6582943c",
   "metadata": {},
   "outputs": [
    {
     "name": "stdout",
     "output_type": "stream",
     "text": [
      "[-3 -3 -3 -3 -3  5  6  7  8  9]\n"
     ]
    }
   ],
   "source": [
    "npArange[0:5] = -3\n",
    "print(npArange)"
   ]
  },
  {
   "cell_type": "code",
   "execution_count": 44,
   "id": "f2ef7869",
   "metadata": {},
   "outputs": [
    {
     "data": {
      "text/plain": [
       "array([ 0.25620407, -0.61454578, -1.40724662])"
      ]
     },
     "execution_count": 44,
     "metadata": {},
     "output_type": "execute_result"
    }
   ],
   "source": [
    "myRand[1:,2]"
   ]
  },
  {
   "cell_type": "code",
   "execution_count": 45,
   "id": "100ef9d2",
   "metadata": {},
   "outputs": [
    {
     "name": "stdout",
     "output_type": "stream",
     "text": [
      "[89 14 68 66 43 45 41 36 21 75 39 96 56 82 91 31 28 23 61 43]\n"
     ]
    }
   ],
   "source": [
    "yeniDizi = np.random.randint(0,101,20)\n",
    "print(yeniDizi)"
   ]
  },
  {
   "cell_type": "code",
   "execution_count": null,
   "id": "f7807546",
   "metadata": {},
   "outputs": [],
   "source": []
  }
 ],
 "metadata": {
  "kernelspec": {
   "display_name": "Python 3 (ipykernel)",
   "language": "python",
   "name": "python3"
  },
  "language_info": {
   "codemirror_mode": {
    "name": "ipython",
    "version": 3
   },
   "file_extension": ".py",
   "mimetype": "text/x-python",
   "name": "python",
   "nbconvert_exporter": "python",
   "pygments_lexer": "ipython3",
   "version": "3.11.7"
  }
 },
 "nbformat": 4,
 "nbformat_minor": 5
}
