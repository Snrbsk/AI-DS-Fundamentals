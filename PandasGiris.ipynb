{
 "cells": [
  {
   "cell_type": "code",
   "execution_count": 1,
   "id": "d18319a1",
   "metadata": {},
   "outputs": [],
   "source": [
    "import numpy as np\n",
    "import pandas as pd"
   ]
  },
  {
   "cell_type": "markdown",
   "id": "58fbd5fd",
   "metadata": {},
   "source": [
    "# Series"
   ]
  },
  {
   "cell_type": "code",
   "execution_count": 3,
   "id": "a9cdc413",
   "metadata": {},
   "outputs": [
    {
     "data": {
      "text/plain": [
       "Zeynep    10\n",
       "Soner     20\n",
       "Veli      40\n",
       "dtype: int64"
      ]
     },
     "execution_count": 3,
     "metadata": {},
     "output_type": "execute_result"
    }
   ],
   "source": [
    "myDict = {\"Zeynep\":10, \"Soner\":20, \"Veli\" :30}\n",
    "pd.Series(myDict)"
   ]
  },
  {
   "cell_type": "code",
   "execution_count": 4,
   "id": "8c65169a",
   "metadata": {},
   "outputs": [
    {
     "data": {
      "text/plain": [
       "0    10\n",
       "1    20\n",
       "2    30\n",
       "dtype: int64"
      ]
     },
     "execution_count": 4,
     "metadata": {},
     "output_type": "execute_result"
    }
   ],
   "source": [
    "myAges = (10,20,30)\n",
    "pd.Series(myAges)"
   ]
  },
  {
   "cell_type": "code",
   "execution_count": 7,
   "id": "5f29802b",
   "metadata": {},
   "outputs": [
    {
     "data": {
      "text/plain": [
       "Zeynep    10\n",
       "Soner     20\n",
       "Veli      30\n",
       "dtype: int64"
      ]
     },
     "execution_count": 7,
     "metadata": {},
     "output_type": "execute_result"
    }
   ],
   "source": [
    "myNames = (\"Zeynep\",\"Soner\",\"Veli\")\n",
    "pd.Series(myAges,myNames)\n",
    "#Better = (data = myAges, index = myNames)\n",
    "pd.Series(data = myAges, index = myNames)"
   ]
  },
  {
   "cell_type": "code",
   "execution_count": 8,
   "id": "17803dc1",
   "metadata": {},
   "outputs": [
    {
     "data": {
      "text/plain": [
       "1     Soner\n",
       "2    Hatice\n",
       "3      Nuri\n",
       "dtype: object"
      ]
     },
     "execution_count": 8,
     "metadata": {},
     "output_type": "execute_result"
    }
   ],
   "source": [
    "pd.Series([\"Soner\",\"Hatice\",\"Nuri\"],[1,2,3])"
   ]
  },
  {
   "cell_type": "code",
   "execution_count": 15,
   "id": "454747f7",
   "metadata": {},
   "outputs": [
    {
     "name": "stdout",
     "output_type": "stream",
     "text": [
      "Soner     13\n",
      "Hacer     25\n",
      "Hatice    37\n",
      "dtype: int64\n"
     ]
    }
   ],
   "source": [
    "#Possible that make something with date referrences with index\n",
    "finalPoint = pd.Series([10,20,30],[\"Soner\",\"Hacer\",\"Hatice\"])\n",
    "finalPoint2 = pd.Series([3,5,7],[\"Soner\",\"Hacer\",\"Hatice\"])\n",
    "sumPoint = finalPoint+finalPoint2\n",
    "print(sumPoint)"
   ]
  },
  {
   "cell_type": "code",
   "execution_count": 13,
   "id": "fed381fd",
   "metadata": {},
   "outputs": [
    {
     "data": {
      "text/plain": [
       "13"
      ]
     },
     "execution_count": 13,
     "metadata": {},
     "output_type": "execute_result"
    }
   ],
   "source": [
    "sumPoint[\"Soner\"]"
   ]
  },
  {
   "cell_type": "code",
   "execution_count": 16,
   "id": "1df398ea",
   "metadata": {},
   "outputs": [
    {
     "name": "stdout",
     "output_type": "stream",
     "text": [
      "a    20.0\n",
      "b     NaN\n",
      "c    50.0\n",
      "d     NaN\n",
      "f     NaN\n",
      "g     NaN\n",
      "dtype: float64\n"
     ]
    }
   ],
   "source": [
    "newSeries = pd.Series([10,20,30,40],[\"a\",\"b\",\"c\",\"d\"])\n",
    "newSeries2 = pd.Series([10,20,30,40],[\"a\",\"c\",\"f\",\"g\"])\n",
    "sumNew = newSeries + newSeries2\n",
    "print(sumNew)"
   ]
  },
  {
   "cell_type": "code",
   "execution_count": null,
   "id": "da89f05c",
   "metadata": {},
   "outputs": [],
   "source": []
  }
 ],
 "metadata": {
  "kernelspec": {
   "display_name": "Python 3 (ipykernel)",
   "language": "python",
   "name": "python3"
  },
  "language_info": {
   "codemirror_mode": {
    "name": "ipython",
    "version": 3
   },
   "file_extension": ".py",
   "mimetype": "text/x-python",
   "name": "python",
   "nbconvert_exporter": "python",
   "pygments_lexer": "ipython3",
   "version": "3.11.7"
  }
 },
 "nbformat": 4,
 "nbformat_minor": 5
}
