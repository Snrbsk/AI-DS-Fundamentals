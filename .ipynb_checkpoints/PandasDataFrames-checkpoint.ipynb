{
 "cells": [
  {
   "cell_type": "code",
   "execution_count": 32,
   "id": "9c5f1d8d",
   "metadata": {},
   "outputs": [],
   "source": [
    "import numpy as np\n",
    "import pandas as pd"
   ]
  },
  {
   "cell_type": "code",
   "execution_count": 33,
   "id": "326724c0",
   "metadata": {},
   "outputs": [
    {
     "data": {
      "text/html": [
       "<div>\n",
       "<style scoped>\n",
       "    .dataframe tbody tr th:only-of-type {\n",
       "        vertical-align: middle;\n",
       "    }\n",
       "\n",
       "    .dataframe tbody tr th {\n",
       "        vertical-align: top;\n",
       "    }\n",
       "\n",
       "    .dataframe thead th {\n",
       "        text-align: right;\n",
       "    }\n",
       "</style>\n",
       "<table border=\"1\" class=\"dataframe\">\n",
       "  <thead>\n",
       "    <tr style=\"text-align: right;\">\n",
       "      <th></th>\n",
       "      <th>0</th>\n",
       "      <th>1</th>\n",
       "      <th>2</th>\n",
       "    </tr>\n",
       "  </thead>\n",
       "  <tbody>\n",
       "    <tr>\n",
       "      <th>0</th>\n",
       "      <td>1.640390</td>\n",
       "      <td>0.095673</td>\n",
       "      <td>2.042598</td>\n",
       "    </tr>\n",
       "    <tr>\n",
       "      <th>1</th>\n",
       "      <td>-0.278509</td>\n",
       "      <td>0.801985</td>\n",
       "      <td>2.567252</td>\n",
       "    </tr>\n",
       "    <tr>\n",
       "      <th>2</th>\n",
       "      <td>-0.411610</td>\n",
       "      <td>-0.320499</td>\n",
       "      <td>0.281941</td>\n",
       "    </tr>\n",
       "    <tr>\n",
       "      <th>3</th>\n",
       "      <td>0.088513</td>\n",
       "      <td>0.716298</td>\n",
       "      <td>1.609782</td>\n",
       "    </tr>\n",
       "  </tbody>\n",
       "</table>\n",
       "</div>"
      ],
      "text/plain": [
       "          0         1         2\n",
       "0  1.640390  0.095673  2.042598\n",
       "1 -0.278509  0.801985  2.567252\n",
       "2 -0.411610 -0.320499  0.281941\n",
       "3  0.088513  0.716298  1.609782"
      ]
     },
     "execution_count": 33,
     "metadata": {},
     "output_type": "execute_result"
    }
   ],
   "source": [
    "#Create random matrix\n",
    "data = np.random.randn(4,3)\n",
    "dataFrame = pd.DataFrame(data)\n",
    "dataFrame"
   ]
  },
  {
   "cell_type": "code",
   "execution_count": 34,
   "id": "5dd11d8c",
   "metadata": {},
   "outputs": [
    {
     "data": {
      "text/html": [
       "<div>\n",
       "<style scoped>\n",
       "    .dataframe tbody tr th:only-of-type {\n",
       "        vertical-align: middle;\n",
       "    }\n",
       "\n",
       "    .dataframe tbody tr th {\n",
       "        vertical-align: top;\n",
       "    }\n",
       "\n",
       "    .dataframe thead th {\n",
       "        text-align: right;\n",
       "    }\n",
       "</style>\n",
       "<table border=\"1\" class=\"dataframe\">\n",
       "  <thead>\n",
       "    <tr style=\"text-align: right;\">\n",
       "      <th></th>\n",
       "      <th>Maas</th>\n",
       "      <th>Yas</th>\n",
       "      <th>Puan</th>\n",
       "    </tr>\n",
       "  </thead>\n",
       "  <tbody>\n",
       "    <tr>\n",
       "      <th>Soner</th>\n",
       "      <td>1.640390</td>\n",
       "      <td>0.095673</td>\n",
       "      <td>2.042598</td>\n",
       "    </tr>\n",
       "    <tr>\n",
       "      <th>Hatice</th>\n",
       "      <td>-0.278509</td>\n",
       "      <td>0.801985</td>\n",
       "      <td>2.567252</td>\n",
       "    </tr>\n",
       "    <tr>\n",
       "      <th>Hacer</th>\n",
       "      <td>-0.411610</td>\n",
       "      <td>-0.320499</td>\n",
       "      <td>0.281941</td>\n",
       "    </tr>\n",
       "    <tr>\n",
       "      <th>Nuri</th>\n",
       "      <td>0.088513</td>\n",
       "      <td>0.716298</td>\n",
       "      <td>1.609782</td>\n",
       "    </tr>\n",
       "  </tbody>\n",
       "</table>\n",
       "</div>"
      ],
      "text/plain": [
       "            Maas       Yas      Puan\n",
       "Soner   1.640390  0.095673  2.042598\n",
       "Hatice -0.278509  0.801985  2.567252\n",
       "Hacer  -0.411610 -0.320499  0.281941\n",
       "Nuri    0.088513  0.716298  1.609782"
      ]
     },
     "execution_count": 34,
     "metadata": {},
     "output_type": "execute_result"
    }
   ],
   "source": [
    "#Create matrix\n",
    "newDataFrame = pd.DataFrame(data,index=[\"Soner\",\"Hatice\",\"Hacer\",\"Nuri\"],columns=[\"Maas\",\"Yas\",\"Puan\"])\n",
    "newDataFrame"
   ]
  },
  {
   "cell_type": "code",
   "execution_count": 35,
   "id": "1767aa14",
   "metadata": {},
   "outputs": [
    {
     "data": {
      "text/plain": [
       "Soner     1.640390\n",
       "Hatice   -0.278509\n",
       "Hacer    -0.411610\n",
       "Nuri      0.088513\n",
       "Name: Maas, dtype: float64"
      ]
     },
     "execution_count": 35,
     "metadata": {},
     "output_type": "execute_result"
    }
   ],
   "source": [
    "#Bring column\n",
    "newDataFrame[\"Maas\"]"
   ]
  },
  {
   "cell_type": "code",
   "execution_count": 36,
   "id": "e80ef3e9",
   "metadata": {},
   "outputs": [
    {
     "data": {
      "text/plain": [
       "Maas    1.640390\n",
       "Yas     0.095673\n",
       "Puan    2.042598\n",
       "Name: Soner, dtype: float64"
      ]
     },
     "execution_count": 36,
     "metadata": {},
     "output_type": "execute_result"
    }
   ],
   "source": [
    "#Find index\n",
    "newDataFrame.loc[\"Soner\"]"
   ]
  },
  {
   "cell_type": "code",
   "execution_count": 37,
   "id": "29cd05ae",
   "metadata": {},
   "outputs": [
    {
     "data": {
      "text/plain": [
       "Maas   -0.278509\n",
       "Yas     0.801985\n",
       "Puan    2.567252\n",
       "Name: Hatice, dtype: float64"
      ]
     },
     "execution_count": 37,
     "metadata": {},
     "output_type": "execute_result"
    }
   ],
   "source": [
    "#Find index with index num\n",
    "newDataFrame.iloc[1]"
   ]
  },
  {
   "cell_type": "code",
   "execution_count": 38,
   "id": "dd6d227a",
   "metadata": {},
   "outputs": [
    {
     "data": {
      "text/html": [
       "<div>\n",
       "<style scoped>\n",
       "    .dataframe tbody tr th:only-of-type {\n",
       "        vertical-align: middle;\n",
       "    }\n",
       "\n",
       "    .dataframe tbody tr th {\n",
       "        vertical-align: top;\n",
       "    }\n",
       "\n",
       "    .dataframe thead th {\n",
       "        text-align: right;\n",
       "    }\n",
       "</style>\n",
       "<table border=\"1\" class=\"dataframe\">\n",
       "  <thead>\n",
       "    <tr style=\"text-align: right;\">\n",
       "      <th></th>\n",
       "      <th>Maas</th>\n",
       "      <th>Yas</th>\n",
       "      <th>Puan</th>\n",
       "      <th>EmeklilikYasi</th>\n",
       "    </tr>\n",
       "  </thead>\n",
       "  <tbody>\n",
       "    <tr>\n",
       "      <th>Soner</th>\n",
       "      <td>1.640390</td>\n",
       "      <td>0.095673</td>\n",
       "      <td>2.042598</td>\n",
       "      <td>40</td>\n",
       "    </tr>\n",
       "    <tr>\n",
       "      <th>Hatice</th>\n",
       "      <td>-0.278509</td>\n",
       "      <td>0.801985</td>\n",
       "      <td>2.567252</td>\n",
       "      <td>40</td>\n",
       "    </tr>\n",
       "    <tr>\n",
       "      <th>Hacer</th>\n",
       "      <td>-0.411610</td>\n",
       "      <td>-0.320499</td>\n",
       "      <td>0.281941</td>\n",
       "      <td>40</td>\n",
       "    </tr>\n",
       "    <tr>\n",
       "      <th>Nuri</th>\n",
       "      <td>0.088513</td>\n",
       "      <td>0.716298</td>\n",
       "      <td>1.609782</td>\n",
       "      <td>40</td>\n",
       "    </tr>\n",
       "  </tbody>\n",
       "</table>\n",
       "</div>"
      ],
      "text/plain": [
       "            Maas       Yas      Puan  EmeklilikYasi\n",
       "Soner   1.640390  0.095673  2.042598             40\n",
       "Hatice -0.278509  0.801985  2.567252             40\n",
       "Hacer  -0.411610 -0.320499  0.281941             40\n",
       "Nuri    0.088513  0.716298  1.609782             40"
      ]
     },
     "execution_count": 38,
     "metadata": {},
     "output_type": "execute_result"
    }
   ],
   "source": [
    "#Add the column\n",
    "newDataFrame[\"EmeklilikYasi\"] = [40,40,40,40]\n",
    "newDataFrame"
   ]
  },
  {
   "cell_type": "code",
   "execution_count": 39,
   "id": "583763c8",
   "metadata": {},
   "outputs": [
    {
     "data": {
      "text/html": [
       "<div>\n",
       "<style scoped>\n",
       "    .dataframe tbody tr th:only-of-type {\n",
       "        vertical-align: middle;\n",
       "    }\n",
       "\n",
       "    .dataframe tbody tr th {\n",
       "        vertical-align: top;\n",
       "    }\n",
       "\n",
       "    .dataframe thead th {\n",
       "        text-align: right;\n",
       "    }\n",
       "</style>\n",
       "<table border=\"1\" class=\"dataframe\">\n",
       "  <thead>\n",
       "    <tr style=\"text-align: right;\">\n",
       "      <th></th>\n",
       "      <th>Maas</th>\n",
       "      <th>Yas</th>\n",
       "      <th>Puan</th>\n",
       "    </tr>\n",
       "  </thead>\n",
       "  <tbody>\n",
       "    <tr>\n",
       "      <th>Soner</th>\n",
       "      <td>1.640390</td>\n",
       "      <td>0.095673</td>\n",
       "      <td>2.042598</td>\n",
       "    </tr>\n",
       "    <tr>\n",
       "      <th>Hatice</th>\n",
       "      <td>-0.278509</td>\n",
       "      <td>0.801985</td>\n",
       "      <td>2.567252</td>\n",
       "    </tr>\n",
       "    <tr>\n",
       "      <th>Hacer</th>\n",
       "      <td>-0.411610</td>\n",
       "      <td>-0.320499</td>\n",
       "      <td>0.281941</td>\n",
       "    </tr>\n",
       "    <tr>\n",
       "      <th>Nuri</th>\n",
       "      <td>0.088513</td>\n",
       "      <td>0.716298</td>\n",
       "      <td>1.609782</td>\n",
       "    </tr>\n",
       "  </tbody>\n",
       "</table>\n",
       "</div>"
      ],
      "text/plain": [
       "            Maas       Yas      Puan\n",
       "Soner   1.640390  0.095673  2.042598\n",
       "Hatice -0.278509  0.801985  2.567252\n",
       "Hacer  -0.411610 -0.320499  0.281941\n",
       "Nuri    0.088513  0.716298  1.609782"
      ]
     },
     "execution_count": 39,
     "metadata": {},
     "output_type": "execute_result"
    }
   ],
   "source": [
    "#Delete the column\n",
    "newDataFrame.drop(\"EmeklilikYasi\", axis = 1, inplace=True)\n",
    "newDataFrame"
   ]
  },
  {
   "cell_type": "code",
   "execution_count": 40,
   "id": "5db772a9",
   "metadata": {},
   "outputs": [
    {
     "data": {
      "text/html": [
       "<div>\n",
       "<style scoped>\n",
       "    .dataframe tbody tr th:only-of-type {\n",
       "        vertical-align: middle;\n",
       "    }\n",
       "\n",
       "    .dataframe tbody tr th {\n",
       "        vertical-align: top;\n",
       "    }\n",
       "\n",
       "    .dataframe thead th {\n",
       "        text-align: right;\n",
       "    }\n",
       "</style>\n",
       "<table border=\"1\" class=\"dataframe\">\n",
       "  <thead>\n",
       "    <tr style=\"text-align: right;\">\n",
       "      <th></th>\n",
       "      <th>Maas</th>\n",
       "      <th>Yas</th>\n",
       "      <th>Puan</th>\n",
       "    </tr>\n",
       "  </thead>\n",
       "  <tbody>\n",
       "    <tr>\n",
       "      <th>Soner</th>\n",
       "      <td>1.640390</td>\n",
       "      <td>0.095673</td>\n",
       "      <td>2.042598</td>\n",
       "    </tr>\n",
       "    <tr>\n",
       "      <th>Hatice</th>\n",
       "      <td>-0.278509</td>\n",
       "      <td>0.801985</td>\n",
       "      <td>2.567252</td>\n",
       "    </tr>\n",
       "    <tr>\n",
       "      <th>Nuri</th>\n",
       "      <td>0.088513</td>\n",
       "      <td>0.716298</td>\n",
       "      <td>1.609782</td>\n",
       "    </tr>\n",
       "  </tbody>\n",
       "</table>\n",
       "</div>"
      ],
      "text/plain": [
       "            Maas       Yas      Puan\n",
       "Soner   1.640390  0.095673  2.042598\n",
       "Hatice -0.278509  0.801985  2.567252\n",
       "Nuri    0.088513  0.716298  1.609782"
      ]
     },
     "execution_count": 40,
     "metadata": {},
     "output_type": "execute_result"
    }
   ],
   "source": [
    "#Delete the index\n",
    "newDataFrame.drop(\"Hacer\", axis = 0, inplace=True)\n",
    "newDataFrame"
   ]
  },
  {
   "cell_type": "code",
   "execution_count": 42,
   "id": "25cf3059",
   "metadata": {},
   "outputs": [
    {
     "data": {
      "text/html": [
       "<div>\n",
       "<style scoped>\n",
       "    .dataframe tbody tr th:only-of-type {\n",
       "        vertical-align: middle;\n",
       "    }\n",
       "\n",
       "    .dataframe tbody tr th {\n",
       "        vertical-align: top;\n",
       "    }\n",
       "\n",
       "    .dataframe thead th {\n",
       "        text-align: right;\n",
       "    }\n",
       "</style>\n",
       "<table border=\"1\" class=\"dataframe\">\n",
       "  <thead>\n",
       "    <tr style=\"text-align: right;\">\n",
       "      <th></th>\n",
       "      <th>Maas</th>\n",
       "      <th>Yas</th>\n",
       "      <th>Puan</th>\n",
       "    </tr>\n",
       "  </thead>\n",
       "  <tbody>\n",
       "    <tr>\n",
       "      <th>Soner</th>\n",
       "      <td>1.640390</td>\n",
       "      <td>0.095673</td>\n",
       "      <td>2.042598</td>\n",
       "    </tr>\n",
       "    <tr>\n",
       "      <th>Hatice</th>\n",
       "      <td>-0.278509</td>\n",
       "      <td>0.801985</td>\n",
       "      <td>2.567252</td>\n",
       "    </tr>\n",
       "    <tr>\n",
       "      <th>Nuri</th>\n",
       "      <td>0.088513</td>\n",
       "      <td>0.716298</td>\n",
       "      <td>1.609782</td>\n",
       "    </tr>\n",
       "  </tbody>\n",
       "</table>\n",
       "</div>"
      ],
      "text/plain": [
       "            Maas       Yas      Puan\n",
       "Soner   1.640390  0.095673  2.042598\n",
       "Hatice -0.278509  0.801985  2.567252\n",
       "Nuri    0.088513  0.716298  1.609782"
      ]
     },
     "execution_count": 42,
     "metadata": {},
     "output_type": "execute_result"
    }
   ],
   "source": [
    "#Filter the column\n",
    "newDataFrame[newDataFrame[\"Yas\"] > 0]"
   ]
  },
  {
   "cell_type": "code",
   "execution_count": 45,
   "id": "3236c842",
   "metadata": {},
   "outputs": [
    {
     "data": {
      "text/html": [
       "<div>\n",
       "<style scoped>\n",
       "    .dataframe tbody tr th:only-of-type {\n",
       "        vertical-align: middle;\n",
       "    }\n",
       "\n",
       "    .dataframe tbody tr th {\n",
       "        vertical-align: top;\n",
       "    }\n",
       "\n",
       "    .dataframe thead th {\n",
       "        text-align: right;\n",
       "    }\n",
       "</style>\n",
       "<table border=\"1\" class=\"dataframe\">\n",
       "  <thead>\n",
       "    <tr style=\"text-align: right;\">\n",
       "      <th></th>\n",
       "      <th>index</th>\n",
       "      <th>Maas</th>\n",
       "      <th>Yas</th>\n",
       "      <th>Puan</th>\n",
       "    </tr>\n",
       "  </thead>\n",
       "  <tbody>\n",
       "    <tr>\n",
       "      <th>0</th>\n",
       "      <td>Soner</td>\n",
       "      <td>1.640390</td>\n",
       "      <td>0.095673</td>\n",
       "      <td>2.042598</td>\n",
       "    </tr>\n",
       "    <tr>\n",
       "      <th>1</th>\n",
       "      <td>Hatice</td>\n",
       "      <td>-0.278509</td>\n",
       "      <td>0.801985</td>\n",
       "      <td>2.567252</td>\n",
       "    </tr>\n",
       "    <tr>\n",
       "      <th>2</th>\n",
       "      <td>Nuri</td>\n",
       "      <td>0.088513</td>\n",
       "      <td>0.716298</td>\n",
       "      <td>1.609782</td>\n",
       "    </tr>\n",
       "  </tbody>\n",
       "</table>\n",
       "</div>"
      ],
      "text/plain": [
       "    index      Maas       Yas      Puan\n",
       "0   Soner  1.640390  0.095673  2.042598\n",
       "1  Hatice -0.278509  0.801985  2.567252\n",
       "2    Nuri  0.088513  0.716298  1.609782"
      ]
     },
     "execution_count": 45,
     "metadata": {},
     "output_type": "execute_result"
    }
   ],
   "source": [
    "#Bring the indexis\n",
    "newDataFrame.reset_index()"
   ]
  },
  {
   "cell_type": "code",
   "execution_count": 50,
   "id": "bdf902c2",
   "metadata": {},
   "outputs": [
    {
     "data": {
      "text/html": [
       "<div>\n",
       "<style scoped>\n",
       "    .dataframe tbody tr th:only-of-type {\n",
       "        vertical-align: middle;\n",
       "    }\n",
       "\n",
       "    .dataframe tbody tr th {\n",
       "        vertical-align: top;\n",
       "    }\n",
       "\n",
       "    .dataframe thead th {\n",
       "        text-align: right;\n",
       "    }\n",
       "</style>\n",
       "<table border=\"1\" class=\"dataframe\">\n",
       "  <thead>\n",
       "    <tr style=\"text-align: right;\">\n",
       "      <th></th>\n",
       "      <th>Maas</th>\n",
       "      <th>Yas</th>\n",
       "      <th>Puan</th>\n",
       "      <th>Kısa</th>\n",
       "    </tr>\n",
       "  </thead>\n",
       "  <tbody>\n",
       "    <tr>\n",
       "      <th>Soner</th>\n",
       "      <td>1.640390</td>\n",
       "      <td>0.095673</td>\n",
       "      <td>2.042598</td>\n",
       "      <td>Son</td>\n",
       "    </tr>\n",
       "    <tr>\n",
       "      <th>Hatice</th>\n",
       "      <td>-0.278509</td>\n",
       "      <td>0.801985</td>\n",
       "      <td>2.567252</td>\n",
       "      <td>Hat</td>\n",
       "    </tr>\n",
       "    <tr>\n",
       "      <th>Nuri</th>\n",
       "      <td>0.088513</td>\n",
       "      <td>0.716298</td>\n",
       "      <td>1.609782</td>\n",
       "      <td>Nur</td>\n",
       "    </tr>\n",
       "  </tbody>\n",
       "</table>\n",
       "</div>"
      ],
      "text/plain": [
       "            Maas       Yas      Puan Kısa\n",
       "Soner   1.640390  0.095673  2.042598  Son\n",
       "Hatice -0.278509  0.801985  2.567252  Hat\n",
       "Nuri    0.088513  0.716298  1.609782  Nur"
      ]
     },
     "execution_count": 50,
     "metadata": {},
     "output_type": "execute_result"
    }
   ],
   "source": [
    "#Add new column\n",
    "newIndexList = [\"Son\",\"Hat\",\"Nur\"]\n",
    "newDataFrame[\"Kısa\"] = newIndexList\n",
    "newDataFrame"
   ]
  },
  {
   "cell_type": "code",
   "execution_count": 52,
   "id": "f0bb0785",
   "metadata": {},
   "outputs": [
    {
     "data": {
      "text/html": [
       "<div>\n",
       "<style scoped>\n",
       "    .dataframe tbody tr th:only-of-type {\n",
       "        vertical-align: middle;\n",
       "    }\n",
       "\n",
       "    .dataframe tbody tr th {\n",
       "        vertical-align: top;\n",
       "    }\n",
       "\n",
       "    .dataframe thead th {\n",
       "        text-align: right;\n",
       "    }\n",
       "</style>\n",
       "<table border=\"1\" class=\"dataframe\">\n",
       "  <thead>\n",
       "    <tr style=\"text-align: right;\">\n",
       "      <th></th>\n",
       "      <th>Maas</th>\n",
       "      <th>Yas</th>\n",
       "      <th>Puan</th>\n",
       "    </tr>\n",
       "    <tr>\n",
       "      <th>Kısa</th>\n",
       "      <th></th>\n",
       "      <th></th>\n",
       "      <th></th>\n",
       "    </tr>\n",
       "  </thead>\n",
       "  <tbody>\n",
       "    <tr>\n",
       "      <th>Son</th>\n",
       "      <td>1.640390</td>\n",
       "      <td>0.095673</td>\n",
       "      <td>2.042598</td>\n",
       "    </tr>\n",
       "    <tr>\n",
       "      <th>Hat</th>\n",
       "      <td>-0.278509</td>\n",
       "      <td>0.801985</td>\n",
       "      <td>2.567252</td>\n",
       "    </tr>\n",
       "    <tr>\n",
       "      <th>Nur</th>\n",
       "      <td>0.088513</td>\n",
       "      <td>0.716298</td>\n",
       "      <td>1.609782</td>\n",
       "    </tr>\n",
       "  </tbody>\n",
       "</table>\n",
       "</div>"
      ],
      "text/plain": [
       "          Maas       Yas      Puan\n",
       "Kısa                              \n",
       "Son   1.640390  0.095673  2.042598\n",
       "Hat  -0.278509  0.801985  2.567252\n",
       "Nur   0.088513  0.716298  1.609782"
      ]
     },
     "execution_count": 52,
     "metadata": {},
     "output_type": "execute_result"
    }
   ],
   "source": [
    "#Set column to index\n",
    "newDataFrame.set_index(\"Kısa\",inplace=True)\n",
    "newDataFrame"
   ]
  },
  {
   "cell_type": "code",
   "execution_count": 55,
   "id": "1e4c1d4f",
   "metadata": {},
   "outputs": [
    {
     "data": {
      "text/plain": [
       "MultiIndex([(   'Simpson',   'Homer'),\n",
       "            (   'Simpson',    'Bart'),\n",
       "            (   'Simpson',   'Marge'),\n",
       "            ('South Park', 'Cartman'),\n",
       "            ('South Park',   'Kenny'),\n",
       "            ('South Park',   'Kylie')],\n",
       "           )"
      ]
     },
     "execution_count": 55,
     "metadata": {},
     "output_type": "execute_result"
    }
   ],
   "source": [
    "#Multi index: list zip and then Multi index\n",
    "ilkIndex = [\"Simpson\",\"Simpson\",\"Simpson\",\"South Park\",\"South Park\",\"South Park\"]\n",
    "icIndex = [\"Homer\",\"Bart\",\"Marge\",\"Cartman\",\"Kenny\",\"Kylie\"]\n",
    "birlesmisIndex = list(zip(ilkIndex,icIndex))\n",
    "birlesmisIndex = pd.MultiIndex.from_tuples(birlesmisIndex)\n",
    "birlesmisIndex"
   ]
  },
  {
   "cell_type": "code",
   "execution_count": 59,
   "id": "392cfc84",
   "metadata": {},
   "outputs": [
    {
     "data": {
      "text/html": [
       "<div>\n",
       "<style scoped>\n",
       "    .dataframe tbody tr th:only-of-type {\n",
       "        vertical-align: middle;\n",
       "    }\n",
       "\n",
       "    .dataframe tbody tr th {\n",
       "        vertical-align: top;\n",
       "    }\n",
       "\n",
       "    .dataframe thead th {\n",
       "        text-align: right;\n",
       "    }\n",
       "</style>\n",
       "<table border=\"1\" class=\"dataframe\">\n",
       "  <thead>\n",
       "    <tr style=\"text-align: right;\">\n",
       "      <th></th>\n",
       "      <th></th>\n",
       "      <th>Yaş</th>\n",
       "      <th>City</th>\n",
       "    </tr>\n",
       "  </thead>\n",
       "  <tbody>\n",
       "    <tr>\n",
       "      <th rowspan=\"3\" valign=\"top\">Simpson</th>\n",
       "      <th>Homer</th>\n",
       "      <td>30</td>\n",
       "      <td>A</td>\n",
       "    </tr>\n",
       "    <tr>\n",
       "      <th>Bart</th>\n",
       "      <td>35</td>\n",
       "      <td>B</td>\n",
       "    </tr>\n",
       "    <tr>\n",
       "      <th>Marge</th>\n",
       "      <td>10</td>\n",
       "      <td>C</td>\n",
       "    </tr>\n",
       "    <tr>\n",
       "      <th rowspan=\"3\" valign=\"top\">South Park</th>\n",
       "      <th>Cartman</th>\n",
       "      <td>10</td>\n",
       "      <td>D</td>\n",
       "    </tr>\n",
       "    <tr>\n",
       "      <th>Kenny</th>\n",
       "      <td>11</td>\n",
       "      <td>E</td>\n",
       "    </tr>\n",
       "    <tr>\n",
       "      <th>Kylie</th>\n",
       "      <td>9</td>\n",
       "      <td>F</td>\n",
       "    </tr>\n",
       "  </tbody>\n",
       "</table>\n",
       "</div>"
      ],
      "text/plain": [
       "                   Yaş City\n",
       "Simpson    Homer    30    A\n",
       "           Bart     35    B\n",
       "           Marge    10    C\n",
       "South Park Cartman  10    D\n",
       "           Kenny    11    E\n",
       "           Kylie     9    F"
      ]
     },
     "execution_count": 59,
     "metadata": {},
     "output_type": "execute_result"
    }
   ],
   "source": [
    "#Creating with multi index\n",
    "myCartoonList = [[30,\"A\"],[35,\"B\"],[10,\"C\"],[10,\"D\"],[11,\"E\"],[9,\"F\"]]\n",
    "cartoonNumpyList = np.array(myCartoonList)\n",
    "cartoonDataFrame = pd.DataFrame(cartoonNumpyList, index=birlesmisIndex, columns=[\"Yaş\",\"City\"])\n",
    "cartoonDataFrame"
   ]
  },
  {
   "cell_type": "code",
   "execution_count": 60,
   "id": "df8bccba",
   "metadata": {},
   "outputs": [
    {
     "data": {
      "text/html": [
       "<div>\n",
       "<style scoped>\n",
       "    .dataframe tbody tr th:only-of-type {\n",
       "        vertical-align: middle;\n",
       "    }\n",
       "\n",
       "    .dataframe tbody tr th {\n",
       "        vertical-align: top;\n",
       "    }\n",
       "\n",
       "    .dataframe thead th {\n",
       "        text-align: right;\n",
       "    }\n",
       "</style>\n",
       "<table border=\"1\" class=\"dataframe\">\n",
       "  <thead>\n",
       "    <tr style=\"text-align: right;\">\n",
       "      <th></th>\n",
       "      <th>Yaş</th>\n",
       "      <th>City</th>\n",
       "    </tr>\n",
       "  </thead>\n",
       "  <tbody>\n",
       "    <tr>\n",
       "      <th>Homer</th>\n",
       "      <td>30</td>\n",
       "      <td>A</td>\n",
       "    </tr>\n",
       "    <tr>\n",
       "      <th>Bart</th>\n",
       "      <td>35</td>\n",
       "      <td>B</td>\n",
       "    </tr>\n",
       "    <tr>\n",
       "      <th>Marge</th>\n",
       "      <td>10</td>\n",
       "      <td>C</td>\n",
       "    </tr>\n",
       "  </tbody>\n",
       "</table>\n",
       "</div>"
      ],
      "text/plain": [
       "      Yaş City\n",
       "Homer  30    A\n",
       "Bart   35    B\n",
       "Marge  10    C"
      ]
     },
     "execution_count": 60,
     "metadata": {},
     "output_type": "execute_result"
    }
   ],
   "source": [
    "cartoonDataFrame.loc[\"Simpson\"]"
   ]
  },
  {
   "cell_type": "code",
   "execution_count": 65,
   "id": "dbb50f6e",
   "metadata": {},
   "outputs": [
    {
     "data": {
      "text/html": [
       "<div>\n",
       "<style scoped>\n",
       "    .dataframe tbody tr th:only-of-type {\n",
       "        vertical-align: middle;\n",
       "    }\n",
       "\n",
       "    .dataframe tbody tr th {\n",
       "        vertical-align: top;\n",
       "    }\n",
       "\n",
       "    .dataframe thead th {\n",
       "        text-align: right;\n",
       "    }\n",
       "</style>\n",
       "<table border=\"1\" class=\"dataframe\">\n",
       "  <thead>\n",
       "    <tr style=\"text-align: right;\">\n",
       "      <th></th>\n",
       "      <th>Yaş</th>\n",
       "      <th>City</th>\n",
       "    </tr>\n",
       "  </thead>\n",
       "  <tbody>\n",
       "    <tr>\n",
       "      <th>Homer</th>\n",
       "      <td>30</td>\n",
       "      <td>A</td>\n",
       "    </tr>\n",
       "    <tr>\n",
       "      <th>Bart</th>\n",
       "      <td>35</td>\n",
       "      <td>B</td>\n",
       "    </tr>\n",
       "    <tr>\n",
       "      <th>Marge</th>\n",
       "      <td>10</td>\n",
       "      <td>C</td>\n",
       "    </tr>\n",
       "  </tbody>\n",
       "</table>\n",
       "</div>"
      ],
      "text/plain": [
       "      Yaş City\n",
       "Homer  30    A\n",
       "Bart   35    B\n",
       "Marge  10    C"
      ]
     },
     "execution_count": 65,
     "metadata": {},
     "output_type": "execute_result"
    }
   ],
   "source": [
    "#Bring the category\n",
    "cartoonDataFrame.loc[\"Simpson\"]"
   ]
  },
  {
   "cell_type": "code",
   "execution_count": 64,
   "id": "1708bc01",
   "metadata": {},
   "outputs": [
    {
     "data": {
      "text/plain": [
       "Yaş     30\n",
       "City     A\n",
       "Name: (Simpson, Homer), dtype: object"
      ]
     },
     "execution_count": 64,
     "metadata": {},
     "output_type": "execute_result"
    }
   ],
   "source": [
    "#Bring the inside index\n",
    "cartoonDataFrame.loc[\"Simpson\",\"Homer\"]"
   ]
  },
  {
   "cell_type": "code",
   "execution_count": 66,
   "id": "b7dd7303",
   "metadata": {},
   "outputs": [
    {
     "data": {
      "text/html": [
       "<div>\n",
       "<style scoped>\n",
       "    .dataframe tbody tr th:only-of-type {\n",
       "        vertical-align: middle;\n",
       "    }\n",
       "\n",
       "    .dataframe tbody tr th {\n",
       "        vertical-align: top;\n",
       "    }\n",
       "\n",
       "    .dataframe thead th {\n",
       "        text-align: right;\n",
       "    }\n",
       "</style>\n",
       "<table border=\"1\" class=\"dataframe\">\n",
       "  <thead>\n",
       "    <tr style=\"text-align: right;\">\n",
       "      <th></th>\n",
       "      <th></th>\n",
       "      <th>Yaş</th>\n",
       "      <th>City</th>\n",
       "    </tr>\n",
       "    <tr>\n",
       "      <th>Film Names</th>\n",
       "      <th>Names</th>\n",
       "      <th></th>\n",
       "      <th></th>\n",
       "    </tr>\n",
       "  </thead>\n",
       "  <tbody>\n",
       "    <tr>\n",
       "      <th rowspan=\"3\" valign=\"top\">Simpson</th>\n",
       "      <th>Homer</th>\n",
       "      <td>30</td>\n",
       "      <td>A</td>\n",
       "    </tr>\n",
       "    <tr>\n",
       "      <th>Bart</th>\n",
       "      <td>35</td>\n",
       "      <td>B</td>\n",
       "    </tr>\n",
       "    <tr>\n",
       "      <th>Marge</th>\n",
       "      <td>10</td>\n",
       "      <td>C</td>\n",
       "    </tr>\n",
       "    <tr>\n",
       "      <th rowspan=\"3\" valign=\"top\">South Park</th>\n",
       "      <th>Cartman</th>\n",
       "      <td>10</td>\n",
       "      <td>D</td>\n",
       "    </tr>\n",
       "    <tr>\n",
       "      <th>Kenny</th>\n",
       "      <td>11</td>\n",
       "      <td>E</td>\n",
       "    </tr>\n",
       "    <tr>\n",
       "      <th>Kylie</th>\n",
       "      <td>9</td>\n",
       "      <td>F</td>\n",
       "    </tr>\n",
       "  </tbody>\n",
       "</table>\n",
       "</div>"
      ],
      "text/plain": [
       "                   Yaş City\n",
       "Film Names Names           \n",
       "Simpson    Homer    30    A\n",
       "           Bart     35    B\n",
       "           Marge    10    C\n",
       "South Park Cartman  10    D\n",
       "           Kenny    11    E\n",
       "           Kylie     9    F"
      ]
     },
     "execution_count": 66,
     "metadata": {},
     "output_type": "execute_result"
    }
   ],
   "source": [
    "#Add index name\n",
    "cartoonDataFrame.index.names = [\"Film Names\",\"Names\"]\n",
    "cartoonDataFrame"
   ]
  },
  {
   "cell_type": "code",
   "execution_count": null,
   "id": "3aa7a2e9",
   "metadata": {},
   "outputs": [],
   "source": []
  }
 ],
 "metadata": {
  "kernelspec": {
   "display_name": "Python 3 (ipykernel)",
   "language": "python",
   "name": "python3"
  },
  "language_info": {
   "codemirror_mode": {
    "name": "ipython",
    "version": 3
   },
   "file_extension": ".py",
   "mimetype": "text/x-python",
   "name": "python",
   "nbconvert_exporter": "python",
   "pygments_lexer": "ipython3",
   "version": "3.11.7"
  }
 },
 "nbformat": 4,
 "nbformat_minor": 5
}
