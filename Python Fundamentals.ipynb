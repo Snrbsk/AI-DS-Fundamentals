{
 "cells": [
  {
   "cell_type": "code",
   "execution_count": 5,
   "id": "69b1e693",
   "metadata": {},
   "outputs": [],
   "source": [
    "str1 =\"My name is Soner\""
   ]
  },
  {
   "cell_type": "code",
   "execution_count": 6,
   "id": "37a9a7a3",
   "metadata": {},
   "outputs": [
    {
     "data": {
      "text/plain": [
       "'My name is Soner'"
      ]
     },
     "execution_count": 6,
     "metadata": {},
     "output_type": "execute_result"
    }
   ],
   "source": [
    "str1"
   ]
  },
  {
   "cell_type": "code",
   "execution_count": 7,
   "id": "2ec97637",
   "metadata": {},
   "outputs": [],
   "source": [
    "#Str1[0] = I "
   ]
  },
  {
   "cell_type": "code",
   "execution_count": 8,
   "id": "56bd704e",
   "metadata": {},
   "outputs": [],
   "source": [
    "myList =[10,20,30,40,50]"
   ]
  },
  {
   "cell_type": "code",
   "execution_count": 10,
   "id": "4a6be5a9",
   "metadata": {},
   "outputs": [
    {
     "name": "stdout",
     "output_type": "stream",
     "text": [
      "[10, 20, 30, 40, 50]\n"
     ]
    }
   ],
   "source": [
    "print(myList)"
   ]
  },
  {
   "cell_type": "code",
   "execution_count": 12,
   "id": "6bdc4308",
   "metadata": {},
   "outputs": [
    {
     "data": {
      "text/plain": [
       "50"
      ]
     },
     "execution_count": 12,
     "metadata": {},
     "output_type": "execute_result"
    }
   ],
   "source": [
    "myList.pop()"
   ]
  },
  {
   "cell_type": "code",
   "execution_count": 13,
   "id": "5e428e47",
   "metadata": {},
   "outputs": [
    {
     "data": {
      "text/plain": [
       "1"
      ]
     },
     "execution_count": 13,
     "metadata": {},
     "output_type": "execute_result"
    }
   ],
   "source": [
    "myList.count(20)"
   ]
  },
  {
   "cell_type": "markdown",
   "id": "2049998d",
   "metadata": {},
   "source": [
    "# Dictionary"
   ]
  },
  {
   "cell_type": "code",
   "execution_count": 17,
   "id": "fd5c9e8b",
   "metadata": {},
   "outputs": [],
   "source": [
    "myFoodCalories = {\"elma\":10, \"armut\":20, \"kivi\":30}"
   ]
  },
  {
   "cell_type": "code",
   "execution_count": 18,
   "id": "f26eec7b",
   "metadata": {},
   "outputs": [
    {
     "data": {
      "text/plain": [
       "{10, 20, 30, 40}"
      ]
     },
     "execution_count": 18,
     "metadata": {},
     "output_type": "execute_result"
    }
   ],
   "source": [
    "set(myList)"
   ]
  },
  {
   "cell_type": "code",
   "execution_count": 19,
   "id": "71fd7954",
   "metadata": {},
   "outputs": [],
   "source": [
    "a = [1,2,3,1,2,3,5,435,2,12,2,3,1,2,3]"
   ]
  },
  {
   "cell_type": "code",
   "execution_count": 20,
   "id": "eb08dc65",
   "metadata": {},
   "outputs": [
    {
     "data": {
      "text/plain": [
       "{1, 2, 3, 5, 12, 435}"
      ]
     },
     "execution_count": 20,
     "metadata": {},
     "output_type": "execute_result"
    }
   ],
   "source": [
    "set(a)"
   ]
  },
  {
   "cell_type": "code",
   "execution_count": 21,
   "id": "51efbce2",
   "metadata": {},
   "outputs": [
    {
     "data": {
      "text/plain": [
       "{1, 2, 3, 4, 6, 7, 15}"
      ]
     },
     "execution_count": 21,
     "metadata": {},
     "output_type": "execute_result"
    }
   ],
   "source": [
    "b =[3,2,1,3,2,15,7,6,4,3,2,1]\n",
    "set(b)"
   ]
  },
  {
   "cell_type": "code",
   "execution_count": 2,
   "id": "175d4b50",
   "metadata": {},
   "outputs": [
    {
     "name": "stdout",
     "output_type": "stream",
     "text": [
      "Eşit\n"
     ]
    }
   ],
   "source": [
    "if (3>4):\n",
    "\tprint(\"Büyük\")\n",
    "elif (3==3):\n",
    "\tprint('Eşit')\n",
    "else:\n",
    "\tprint(\"Küçük\")"
   ]
  },
  {
   "cell_type": "code",
   "execution_count": 25,
   "id": "bb06aaf8",
   "metadata": {},
   "outputs": [
    {
     "name": "stdout",
     "output_type": "stream",
     "text": [
      "10\n",
      "20\n",
      "30\n",
      "40\n"
     ]
    }
   ],
   "source": [
    "for num in myList:\n",
    "    print(num)"
   ]
  },
  {
   "cell_type": "code",
   "execution_count": 26,
   "id": "396705da",
   "metadata": {},
   "outputs": [
    {
     "name": "stdout",
     "output_type": "stream",
     "text": [
      "10\n",
      "30\n",
      "50\n"
     ]
    }
   ],
   "source": [
    "coordinates = [(10,20),(30,40),(50,60)]\n",
    "for (x,y) in coordinates:\n",
    "    print(x)"
   ]
  },
  {
   "cell_type": "code",
   "execution_count": 27,
   "id": "ee69ecb2",
   "metadata": {},
   "outputs": [
    {
     "name": "stdout",
     "output_type": "stream",
     "text": [
      "0\n",
      "2\n",
      "4\n",
      "6\n",
      "8\n"
     ]
    }
   ],
   "source": [
    "for x in range(0,10,2):\n",
    "    print(x)"
   ]
  },
  {
   "cell_type": "code",
   "execution_count": 28,
   "id": "c806ff90",
   "metadata": {},
   "outputs": [
    {
     "name": "stdout",
     "output_type": "stream",
     "text": [
      "0\n",
      "2\n",
      "4\n",
      "6\n",
      "8\n"
     ]
    }
   ],
   "source": [
    "x=0\n",
    "while x<10:\n",
    "    print(x)\n",
    "    x += 2"
   ]
  },
  {
   "cell_type": "code",
   "execution_count": 29,
   "id": "5948c377",
   "metadata": {},
   "outputs": [
    {
     "data": {
      "text/plain": [
       "[0, 1, 2, 3, 4, 5, 6, 7, 8, 9]"
      ]
     },
     "execution_count": 29,
     "metadata": {},
     "output_type": "execute_result"
    }
   ],
   "source": [
    "list(range(10))"
   ]
  },
  {
   "cell_type": "code",
   "execution_count": 31,
   "id": "3909aa7d",
   "metadata": {},
   "outputs": [
    {
     "name": "stdout",
     "output_type": "stream",
     "text": [
      "Güncel Numara:0, Güncel Index:0\n",
      "Güncel Numara:1, Güncel Index:1\n",
      "Güncel Numara:2, Güncel Index:2\n",
      "Güncel Numara:3, Güncel Index:3\n",
      "Güncel Numara:4, Güncel Index:4\n",
      "Güncel Numara:5, Güncel Index:5\n",
      "Güncel Numara:6, Güncel Index:6\n",
      "Güncel Numara:7, Güncel Index:7\n",
      "Güncel Numara:8, Güncel Index:8\n",
      "Güncel Numara:9, Güncel Index:9\n"
     ]
    }
   ],
   "source": [
    "#enumerate\n",
    "index = 0\n",
    "for num in list(range(10)):\n",
    "    print(f\"Güncel Numara:{num}, Güncel Index:{index}\")\n",
    "    index +=1"
   ]
  },
  {
   "cell_type": "code",
   "execution_count": 35,
   "id": "9bd9cb7a",
   "metadata": {},
   "outputs": [
    {
     "name": "stdout",
     "output_type": "stream",
     "text": [
      "[('a', 'd', 'x'), ('b', 'e', 'y'), ('c', 'f', 'z')]\n"
     ]
    }
   ],
   "source": [
    "list1 = [\"a\",\"b\",\"c\"]\n",
    "list2 = [\"d\",\"e\",\"f\"]\n",
    "list3= [\"x\",\"y\",\"z\"]\n",
    "zipList = list(zip(list1,list2,list3))\n",
    "print(zipList)"
   ]
  },
  {
   "cell_type": "code",
   "execution_count": 36,
   "id": "bb0f65c5",
   "metadata": {},
   "outputs": [
    {
     "data": {
      "text/plain": [
       "100"
      ]
     },
     "execution_count": 36,
     "metadata": {},
     "output_type": "execute_result"
    }
   ],
   "source": [
    "def bigsum(*args):\n",
    "    return sum(args)\n",
    "bigsum(10,20,30,40)"
   ]
  },
  {
   "cell_type": "code",
   "execution_count": 51,
   "id": "fbbdce17",
   "metadata": {},
   "outputs": [
    {
     "data": {
      "text/plain": [
       "{'Soner': 10, 'Hatice': 90, 'Hacer': 80}"
      ]
     },
     "execution_count": 51,
     "metadata": {},
     "output_type": "execute_result"
    }
   ],
   "source": [
    "def bigdict(**kwargs):\n",
    "    return kwargs\n",
    "bigdict(Soner= 10, Hatice= 90, Hacer= 80)"
   ]
  },
  {
   "cell_type": "code",
   "execution_count": 56,
   "id": "bc93a5ad",
   "metadata": {},
   "outputs": [
    {
     "data": {
      "text/plain": [
       "[20, 12, 60, 8, 10, 12, 18]"
      ]
     },
     "execution_count": 56,
     "metadata": {},
     "output_type": "execute_result"
    }
   ],
   "source": [
    "def carpmaIslemi(num):\n",
    "    return num*2\n",
    "carpmalist = [10,6,30,4,5,6,9]\n",
    "    \n",
    "list(map(carpmaIslemi,carpmalist))"
   ]
  },
  {
   "cell_type": "code",
   "execution_count": 61,
   "id": "712385d3",
   "metadata": {},
   "outputs": [
    {
     "name": "stdout",
     "output_type": "stream",
     "text": [
      "Hayvan Ses Çıkardı...\n",
      "Kedi Miyavladı\n",
      "Kedi yürüdü...\n"
     ]
    }
   ],
   "source": [
    "class Animal():\n",
    "    def __init__(self):\n",
    "        print(\"Hayvan Ses Çıkardı...\")\n",
    "    def method1(self):\n",
    "        print(\"Hayvan yürüdü...\")\n",
    "class Cat(Animal):\n",
    "    def __init__(self):\n",
    "        Animal.__init__(self)\n",
    "        print(\"Kedi Miyavladı\")\n",
    "        \n",
    "        #Override\n",
    "    def method1(self):\n",
    "        print(\"Kedi yürüdü...\")\n",
    "myCat = Cat()\n",
    "myCat.method1()"
   ]
  },
  {
   "cell_type": "code",
   "execution_count": 69,
   "id": "921acf3d",
   "metadata": {},
   "outputs": [
    {
     "name": "stdout",
     "output_type": "stream",
     "text": [
      "elma 100 kaloridir.\n",
      "muz 200 kaloridir.\n"
     ]
    }
   ],
   "source": [
    "class Elma():\n",
    "    def __init__(self,isim):\n",
    "        self.isim = isim\n",
    "    def bilgiVer(self):\n",
    "        return self.isim +\" 100 kaloridir.\"\n",
    "    \n",
    "class Muz():\n",
    "    def __init__(self,isim):\n",
    "        self.isim = isim\n",
    "    def bilgiVer(self):\n",
    "        return self.isim +\" 200 kaloridir.\"\n",
    "    \n",
    "elma = Elma(\"elma\")\n",
    "muz = Muz(\"muz\")\n",
    "\n",
    "fruits = [elma,muz]\n",
    "for fruit in fruits:\n",
    "    print(fruit.bilgiVer())"
   ]
  },
  {
   "cell_type": "code",
   "execution_count": null,
   "id": "40642c30",
   "metadata": {},
   "outputs": [],
   "source": []
  }
 ],
 "metadata": {
  "kernelspec": {
   "display_name": "Python 3 (ipykernel)",
   "language": "python",
   "name": "python3"
  },
  "language_info": {
   "codemirror_mode": {
    "name": "ipython",
    "version": 3
   },
   "file_extension": ".py",
   "mimetype": "text/x-python",
   "name": "python",
   "nbconvert_exporter": "python",
   "pygments_lexer": "ipython3",
   "version": "3.11.7"
  }
 },
 "nbformat": 4,
 "nbformat_minor": 5
}
